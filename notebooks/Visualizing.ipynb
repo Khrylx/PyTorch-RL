{
 "cells": [
  {
   "cell_type": "code",
   "execution_count": 1,
   "metadata": {},
   "outputs": [],
   "source": [
    "import argparse\n",
    "import os\n",
    "import sys\n",
    "import time\n",
    "sys.path.append(os.path.abspath(os.path.join( '..')))\n",
    "from utils import *\n",
    "from models.mlp_policy import Policy\n",
    "from models.mlp_critic import Value\n",
    "from core.agent import Agent\n",
    "\n",
    "from larocs_sim.envs.drone_env import DroneEnv\n",
    "import pickle"
   ]
  },
  {
   "cell_type": "markdown",
   "metadata": {},
   "source": [
    "\n",
    "# Args"
   ]
  },
  {
   "cell_type": "code",
   "execution_count": 2,
   "metadata": {},
   "outputs": [],
   "source": [
    "class Args():\n",
    "    def __init__(self):\n",
    "        pass\n",
    "args = Args()\n",
    "args.model_path = '/home/gabriel/repos/PyTorch-RL/checkpoint/name_NANPROBLEM_clip_0.2_minbatch_1024_lr_0.0001_optepochs_15_optbatchs_256_init_False_seed_42/NANPROBLEM_ppo_itr_1299.p'\n",
    "args.env_reset_mode=False\n",
    "args.seed=1\n",
    "args.reward='Normal'\n",
    "args.state='New_Double'\n",
    "args.render=False\n",
    "args.num_threads=1\n",
    "args.headless=False\n"
   ]
  },
  {
   "cell_type": "code",
   "execution_count": 3,
   "metadata": {},
   "outputs": [],
   "source": [
    "\n",
    "dtype = torch.float64\n",
    "torch.set_default_dtype(dtype)\n",
    "device = torch.device('cpu')\n",
    "\n"
   ]
  },
  {
   "cell_type": "markdown",
   "metadata": {},
   "source": [
    "# Seed"
   ]
  },
  {
   "cell_type": "code",
   "execution_count": 4,
   "metadata": {},
   "outputs": [
    {
     "data": {
      "text/plain": [
       "<torch._C.Generator at 0x7ffb7fac3eb0>"
      ]
     },
     "execution_count": 4,
     "metadata": {},
     "output_type": "execute_result"
    }
   ],
   "source": [
    "\"\"\"seeding\"\"\"\n",
    "np.random.seed(args.seed)\n",
    "torch.manual_seed(args.seed)\n"
   ]
  },
  {
   "cell_type": "markdown",
   "metadata": {},
   "source": [
    "# Loading Model"
   ]
  },
  {
   "cell_type": "code",
   "execution_count": 5,
   "metadata": {},
   "outputs": [
    {
     "data": {
      "text/plain": [
       "Policy(\n",
       "  (affine_layers): ModuleList(\n",
       "    (0): Linear(in_features=36, out_features=128, bias=True)\n",
       "    (1): Linear(in_features=128, out_features=128, bias=True)\n",
       "  )\n",
       "  (action_mean): Linear(in_features=128, out_features=4, bias=True)\n",
       ")"
      ]
     },
     "execution_count": 5,
     "metadata": {},
     "output_type": "execute_result"
    }
   ],
   "source": [
    "\n",
    "policy_net, value_net, running_state,  = pickle.load(open(args.model_path, \"rb\"))\n",
    "policy_net.to(device)\n"
   ]
  },
  {
   "cell_type": "markdown",
   "metadata": {},
   "source": [
    "# Env"
   ]
  },
  {
   "cell_type": "code",
   "execution_count": 6,
   "metadata": {},
   "outputs": [
    {
     "name": "stdout",
     "output_type": "stream",
     "text": [
      "scene =  /home/gabriel/repos/my_larocs_sim/larocs_sim/envs/../../scenes/ardrone_modeled_headless.ttt\n",
      "headless =  False\n",
      "initial_position =  [0.0, 0.0, 1.7000000476837158]\n",
      "initial_orientation =  [-0.0, 0.0, -0.0]\n",
      "Initial Position of the Target =  [0.0, 8.419156038996789e-09, 1.7000000476837158]\n",
      "self.observation_space =  (36,)\n"
     ]
    },
    {
     "name": "stderr",
     "output_type": "stream",
     "text": [
      "/home/gabriel/anaconda3/envs/pyrep_raw/lib/python3.7/site-packages/gym/logger.py:30: UserWarning: \u001b[33mWARN: Box bound precision lowered by casting to float32\u001b[0m\n",
      "  warnings.warn(colorize('%s: %s'%('WARN', msg % args), 'yellow'))\n"
     ]
    }
   ],
   "source": [
    "\"\"\"environment\"\"\"\n",
    "try:\n",
    "    env.shutdown()\n",
    "except:\n",
    "    pass\n",
    "env = DroneEnv(random=args.env_reset_mode,seed=args.seed, headless=args.headless,\\\n",
    "               reward_function_name = args.reward, state=args.state)"
   ]
  },
  {
   "cell_type": "markdown",
   "metadata": {},
   "source": [
    "# Agent"
   ]
  },
  {
   "cell_type": "code",
   "execution_count": 7,
   "metadata": {},
   "outputs": [],
   "source": [
    "\"\"\"create agent\"\"\"\n",
    "agent = Agent(env, policy_net, device, running_state=running_state,\\\n",
    "              render=args.render, num_threads=args.num_threads, mean_action=True)"
   ]
  },
  {
   "cell_type": "markdown",
   "metadata": {},
   "source": [
    "# Runner"
   ]
  },
  {
   "cell_type": "code",
   "execution_count": 8,
   "metadata": {},
   "outputs": [],
   "source": [
    "args.max_timesteps=1500"
   ]
  },
  {
   "cell_type": "code",
   "execution_count": null,
   "metadata": {},
   "outputs": [],
   "source": [
    "\n",
    "\n",
    "batch, log = agent.collect_samples(args.max_timesteps)\n",
    "\n",
    "print('R_min {0:.2f}\\tR_max {1:.2f}\\tR_avg {2:.2f}\\tNum_episodes {3:.2f}'.format(log['min_reward'],\\\n",
    "                                         log['max_reward'], log['avg_reward'], log['num_episodes']))\n"
   ]
  },
  {
   "cell_type": "code",
   "execution_count": null,
   "metadata": {},
   "outputs": [],
   "source": [
    "log"
   ]
  },
  {
   "cell_type": "code",
   "execution_count": null,
   "metadata": {},
   "outputs": [],
   "source": []
  }
 ],
 "metadata": {
  "kernelspec": {
   "display_name": "Python 3",
   "language": "python",
   "name": "python3"
  },
  "language_info": {
   "codemirror_mode": {
    "name": "ipython",
    "version": 3
   },
   "file_extension": ".py",
   "mimetype": "text/x-python",
   "name": "python",
   "nbconvert_exporter": "python",
   "pygments_lexer": "ipython3",
   "version": "3.7.5"
  },
  "toc": {
   "base_numbering": 1,
   "nav_menu": {},
   "number_sections": true,
   "sideBar": true,
   "skip_h1_title": false,
   "title_cell": "Table of Contents",
   "title_sidebar": "Contents",
   "toc_cell": false,
   "toc_position": {},
   "toc_section_display": true,
   "toc_window_display": false
  }
 },
 "nbformat": 4,
 "nbformat_minor": 4
}
