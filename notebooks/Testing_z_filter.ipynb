{
 "cells": [
  {
   "cell_type": "code",
   "execution_count": 74,
   "metadata": {},
   "outputs": [],
   "source": [
    "import argparse\n",
    "import gym\n",
    "import os\n",
    "import sys\n",
    "import pickle\n",
    "import time\n",
    "sys.path.append(os.path.join(os.getcwd(), '..'))\n",
    "\n",
    "import torch\n",
    "from utils import *\n",
    "from models.mlp_policy import Policy\n",
    "from models.mlp_critic import Value\n",
    "from models.mlp_policy_disc import DiscretePolicy\n",
    "from core.ppo import ppo_step\n",
    "from core.common import estimate_advantages\n",
    "from core.agent import Agent\n",
    "\n",
    "from larocs_sim.envs.drone_env import DroneEnv\n",
    "import csv\n",
    "\n",
    "import pandas as pd"
   ]
  },
  {
   "cell_type": "code",
   "execution_count": 41,
   "metadata": {},
   "outputs": [],
   "source": [
    "np.set_printoptions(suppress=True)\n"
   ]
  },
  {
   "cell_type": "code",
   "execution_count": 8,
   "metadata": {},
   "outputs": [
    {
     "name": "stdout",
     "output_type": "stream",
     "text": [
      "scene =  /home/gabriel/repos/my_larocs_sim/larocs_sim/envs/../../scenes/ardrone_modeled_headless.ttt\n",
      "headless =  True\n",
      "initial_position =  [0.0, 0.0, 1.7000000476837158]\n",
      "initial_orientation =  [-0.0, 0.0, -0.0]\n",
      "Initial Position of the Target =  [0.0, 8.419156038996789e-09, 1.7000000476837158]\n"
     ]
    },
    {
     "name": "stderr",
     "output_type": "stream",
     "text": [
      "/home/gabriel/anaconda3/envs/pyrep_raw/lib/python3.7/site-packages/gym/logger.py:30: UserWarning: \u001b[33mWARN: Box bound precision lowered by casting to float32\u001b[0m\n",
      "  warnings.warn(colorize('%s: %s'%('WARN', msg % args), 'yellow'))\n"
     ]
    }
   ],
   "source": [
    "\n",
    "\n",
    "\n",
    "dtype = torch.float64\n",
    "torch.set_default_dtype(dtype)\n",
    "device = torch.device('cpu')\n",
    "\n",
    "\n",
    "\n",
    "try:\n",
    "    env.shutdown()\n",
    "except:\n",
    "    pass\n",
    "env = DroneEnv(random=False,seed=42, headless = True)\n"
   ]
  },
  {
   "cell_type": "code",
   "execution_count": 11,
   "metadata": {},
   "outputs": [],
   "source": [
    "state = env.reset()"
   ]
  },
  {
   "cell_type": "code",
   "execution_count": 12,
   "metadata": {},
   "outputs": [
    {
     "name": "stdout",
     "output_type": "stream",
     "text": [
      "[ 0.000000e+00 -4.209578e-09  0.000000e+00  1.000000e+00  0.000000e+00\n",
      "  0.000000e+00 -0.000000e+00  1.000000e+00  0.000000e+00 -0.000000e+00\n",
      " -0.000000e+00  1.000000e+00 -0.000000e+00  0.000000e+00 -0.000000e+00\n",
      "  0.000000e+00  0.000000e+00  0.000000e+00]\n"
     ]
    }
   ],
   "source": [
    "print(state)"
   ]
  },
  {
   "cell_type": "code",
   "execution_count": 39,
   "metadata": {},
   "outputs": [],
   "source": [
    "state_dim = env.observation_space.shape[0]\n",
    "running_state = ZFilter(shape = (state_dim,), demean=False, clip=5)"
   ]
  },
  {
   "cell_type": "code",
   "execution_count": 40,
   "metadata": {},
   "outputs": [
    {
     "name": "stdout",
     "output_type": "stream",
     "text": [
      "[ 0. -0.  0.  1.  0.  0. -0.  1.  0. -0. -0.  1. -0.  0. -0.  0.  0.  0.]\n",
      "Prev_state =  [ 0. -0.  0.  1.  0.  0. -0.  1.  0. -0. -0.  1. -0.  0. -0.  0.  0.  0.]\n",
      "\n",
      "POST =  [ 0.         -0.29624933  0.          0.99999999  0.          0.\n",
      " -0.          0.99999999  0.         -0.         -0.          0.99999999\n",
      " -0.          0.         -0.          0.          0.          0.        ]\n",
      "\n",
      "\n",
      "Prev_state =  [ 0.         -0.00000001 -0.0055182   1.         -0.00000003 -0.00000007\n",
      "  0.00000003  1.          0.00000034  0.00000007 -0.00000034  1.\n",
      " -0.00000673 -0.00000131  0.0000006   0.0000001  -0.00000002 -0.22072792]\n",
      "\n",
      "POST =  [ 0.        -0.4209578  0.         5.         0.         0.\n",
      " -0.         5.         0.        -0.        -0.         5.\n",
      " -0.         0.        -0.         0.         0.         0.       ]\n",
      "\n",
      "\n",
      "Prev_state =  [ 0.         -0.00000001 -0.02329886  1.         -0.00000005  0.00000007\n",
      "  0.00000005  1.          0.00000048 -0.00000007 -0.00000048  1.\n",
      " -0.00000278  0.00000279  0.00000038  0.00000007  0.00000033 -0.71122646]\n",
      "\n",
      "POST =  [ 0.        -0.4209578  0.         5.         0.         0.\n",
      " -0.         5.         0.        -0.        -0.         5.\n",
      " -0.         0.        -0.         0.         0.         0.       ]\n",
      "\n",
      "\n",
      "Prev_state =  [ 0.         -0.         -0.05334193  1.         -0.00000004  0.00000024\n",
      "  0.00000004  1.          0.00000059 -0.00000024 -0.00000059  1.\n",
      " -0.00000229  0.00000338 -0.00000019  0.00000029  0.0000008  -1.2017226 ]\n",
      "\n",
      "POST =  [ 0.        -0.4209578  0.         5.         0.         0.\n",
      " -0.         5.         0.        -0.        -0.         5.\n",
      " -0.         0.        -0.         0.         0.         0.       ]\n",
      "\n",
      "\n",
      "Prev_state =  [ 0.         -0.         -0.09564757  1.         -0.00000005  0.00000025\n",
      "  0.00000005  1.          0.00000063 -0.00000025 -0.00000063  1.\n",
      " -0.00000073  0.00000007  0.00000015  0.00000042  0.00000115 -1.6922259 ]\n",
      "\n",
      "POST =  [ 0.        -0.4209578  0.         5.         0.         0.\n",
      " -0.         5.         0.        -0.        -0.         5.\n",
      " -0.         0.        -0.         0.         0.         0.       ]\n",
      "\n",
      "\n",
      "Prev_state =  [ 0.         -0.         -0.15021569  1.         -0.00000004  0.00000028\n",
      "  0.00000004  1.          0.00000063 -0.00000028 -0.00000063  1.\n",
      " -0.00000012  0.00000076 -0.0000002   0.00000062  0.0000014  -2.1827245 ]\n",
      "\n",
      "POST =  [ 0.        -0.4209578  0.         5.         0.         0.\n",
      " -0.         5.         0.        -0.        -0.         5.\n",
      " -0.         0.        -0.         0.         0.         0.       ]\n",
      "\n",
      "\n",
      "Prev_state =  [ 0.         -0.         -0.21704632  1.         -0.00000005  0.00000032\n",
      "  0.00000005  1.          0.00000064 -0.00000032 -0.00000064  1.\n",
      " -0.00000016  0.00000072  0.0000003   0.00000086  0.00000173 -2.6732254 ]\n",
      "\n",
      "POST =  [ 0.        -0.4209578  0.         5.         0.         0.\n",
      " -0.         5.         0.        -0.        -0.         5.\n",
      " -0.         0.        -0.         0.         0.         0.       ]\n",
      "\n",
      "\n",
      "Prev_state =  [ 0.         -0.         -0.29613948  1.         -0.00000004  0.00000032\n",
      "  0.00000004  1.          0.0000007  -0.00000032 -0.0000007   1.\n",
      " -0.00000123  0.00000007 -0.00000029  0.00000103  0.00000222 -3.1637263 ]\n",
      "\n",
      "POST =  [ 0.        -0.4209578  0.         5.         0.         0.\n",
      " -0.         5.         0.        -0.        -0.         5.\n",
      " -0.         0.        -0.         0.         0.         0.       ]\n",
      "\n",
      "\n",
      "Prev_state =  [ 0.         -0.         -0.38749507  1.         -0.00000004  0.00000039\n",
      "  0.00000004  1.          0.00000073 -0.00000039 -0.00000073  1.\n",
      " -0.00000049  0.00000138 -0.00000004  0.00000143  0.0000026  -3.6542237 ]\n",
      "\n",
      "POST =  [ 0.        -0.4209578  0.         5.         0.         0.\n",
      " -0.         5.         0.        -0.        -0.         5.\n",
      " -0.         0.        -0.         0.         0.         0.       ]\n",
      "\n",
      "\n",
      "Prev_state =  [ 0.         -0.00000001 -0.49111325  1.         -0.00000004  0.00000035\n",
      "  0.00000004  1.          0.00000076 -0.00000035 -0.00000076  1.\n",
      " -0.00000069 -0.00000091  0.00000015  0.00000144  0.00000306 -4.1447268 ]\n",
      "\n",
      "POST =  [ 0.        -0.4209578  0.         5.         0.         0.\n",
      " -0.         5.         0.        -0.        -0.         5.\n",
      " -0.         0.        -0.         0.         0.         0.       ]\n",
      "\n",
      "\n"
     ]
    }
   ],
   "source": [
    "state = env.reset()\n",
    "print(state)\n",
    "for i in range(10):\n",
    "    env._make_observation()\n",
    "    prev_state=env.observation\n",
    "    post_state = running_state(state)\n",
    "    \n",
    "    print('Prev_state = ', prev_state)\n",
    "    print()\n",
    "    \n",
    "    print('POST = ', post_state)\n",
    "    \n",
    "    env.pr.step()\n",
    "    print()\n",
    "    print()    "
   ]
  },
  {
   "cell_type": "markdown",
   "metadata": {},
   "source": [
    "# Plotando histogramas"
   ]
  },
  {
   "cell_type": "code",
   "execution_count": 43,
   "metadata": {},
   "outputs": [
    {
     "data": {
      "text/plain": [
       "<torch._C.Generator at 0x7f39b23cb9b0>"
      ]
     },
     "execution_count": 43,
     "metadata": {},
     "output_type": "execute_result"
    }
   ],
   "source": [
    "state_dim = env.observation_space.shape[0]\n",
    "is_disc_action = len(env.action_space.shape) == 0\n",
    "running_state = ZFilter((state_dim,), clip=5)\n",
    "# running_reward = ZFilter((1,), demean=False, clip=10)\n",
    "\"\"\"seeding\"\"\"\n",
    "np.random.seed(42)\n",
    "torch.manual_seed(42)\n",
    "# env.seed(args.seed)"
   ]
  },
  {
   "cell_type": "code",
   "execution_count": 45,
   "metadata": {},
   "outputs": [
    {
     "name": "stdout",
     "output_type": "stream",
     "text": [
      "1\n"
     ]
    }
   ],
   "source": [
    "file='/home/gabriel/repos/PyTorch-RL/checkpoint/name_Testing_norm_stochastic_clip_0.2_minbatch_2048_lr_0.0003_optepochs_10_optbatchs_64_init_Discretized_Uniform_seed_42_GAIL/GAIL_Testing_norm_stochastic_itr_99.p'\n",
    "\n",
    "try:\n",
    "    policy_net, value_net, discrim_net, running_state = pickle.load(open(file, \"rb\"))\n",
    "    print('1')\n",
    "except:\n",
    "    policy_net, value_net,  running_state = pickle.load(open(file, \"rb\"))\n",
    "    print('2')"
   ]
  },
  {
   "cell_type": "code",
   "execution_count": 47,
   "metadata": {},
   "outputs": [
    {
     "name": "stdout",
     "output_type": "stream",
     "text": [
      "type running state =  <class 'utils.zfilter.ZFilter'>\n"
     ]
    },
    {
     "data": {
      "text/plain": [
       "Value(\n",
       "  (affine_layers): ModuleList(\n",
       "    (0): Linear(in_features=18, out_features=128, bias=True)\n",
       "    (1): Linear(in_features=128, out_features=128, bias=True)\n",
       "  )\n",
       "  (value_head): Linear(in_features=128, out_features=1, bias=True)\n",
       ")"
      ]
     },
     "execution_count": 47,
     "metadata": {},
     "output_type": "execute_result"
    }
   ],
   "source": [
    "print('type running state = ',type(running_state))\n",
    "\n",
    "# env.shutdown();import sys;sys.exit(0)\n",
    "print\n",
    "policy_net.to(device)\n",
    "value_net.to(device)"
   ]
  },
  {
   "cell_type": "markdown",
   "metadata": {},
   "source": [
    "# Histogramas"
   ]
  },
  {
   "cell_type": "markdown",
   "metadata": {},
   "source": [
    "## running_state_novo "
   ]
  },
  {
   "cell_type": "code",
   "execution_count": 83,
   "metadata": {},
   "outputs": [
    {
     "name": "stdout",
     "output_type": "stream",
     "text": [
      "R_min 118.54\tR_max 507.05\tR_avg 161.73\tNum_episodes 26.00\n"
     ]
    }
   ],
   "source": [
    "\"\"\"create agent\"\"\"\n",
    "running_state = ZFilter((state_dim,), clip=5)\n",
    "agent = Agent(env, policy_net, device, running_state=running_state, num_threads=1, mean_action=True)\n",
    "\n",
    "max_timesteps=2000\n",
    "batch, log = agent.collect_samples(max_timesteps)\n",
    "\n",
    "print('R_min {0:.2f}\\tR_max {1:.2f}\\tR_avg {2:.2f}\\tNum_episodes {3:.2f}'.format(log['min_reward'], log['max_reward'], log['avg_reward'], log['num_episodes']))"
   ]
  },
  {
   "cell_type": "markdown",
   "metadata": {},
   "source": [
    "## loaded state_novo"
   ]
  },
  {
   "cell_type": "code",
   "execution_count": 85,
   "metadata": {},
   "outputs": [
    {
     "name": "stdout",
     "output_type": "stream",
     "text": [
      "1\n",
      "R_min 709.02\tR_max 769.74\tR_avg 736.24\tNum_episodes 8.00\n"
     ]
    }
   ],
   "source": [
    "\"\"\"create agent\"\"\"\n",
    "file='/home/gabriel/repos/PyTorch-RL/checkpoint/name_Testing_norm_stochastic_clip_0.2_minbatch_2048_lr_0.0003_optepochs_10_optbatchs_64_init_Discretized_Uniform_seed_42_GAIL/GAIL_Testing_norm_stochastic_itr_99.p'\n",
    "\n",
    "try:\n",
    "    policy_net, value_net, discrim_net, running_state = pickle.load(open(file, \"rb\"))\n",
    "    print('1')\n",
    "except:\n",
    "    policy_net, value_net,  running_state = pickle.load(open(file, \"rb\"))\n",
    "    print('2')\n",
    "    \n",
    "    \n",
    "agent = Agent(env, policy_net, device, running_state=running_state, num_threads=1, mean_action=True)\n",
    "\n",
    "max_timesteps=2000\n",
    "batch, log = agent.collect_samples(max_timesteps)\n",
    "\n",
    "print('R_min {0:.2f}\\tR_max {1:.2f}\\tR_avg {2:.2f}\\tNum_episodes {3:.2f}'.format(log['min_reward'], log['max_reward'], log['avg_reward'], log['num_episodes']))"
   ]
  },
  {
   "cell_type": "markdown",
   "metadata": {},
   "source": [
    "## actions"
   ]
  },
  {
   "cell_type": "code",
   "execution_count": 67,
   "metadata": {},
   "outputs": [],
   "source": [
    "df_actions = pd.DataFrame(np.array(batch.action))"
   ]
  },
  {
   "cell_type": "code",
   "execution_count": 68,
   "metadata": {},
   "outputs": [
    {
     "data": {
      "text/html": [
       "<div>\n",
       "<style scoped>\n",
       "    .dataframe tbody tr th:only-of-type {\n",
       "        vertical-align: middle;\n",
       "    }\n",
       "\n",
       "    .dataframe tbody tr th {\n",
       "        vertical-align: top;\n",
       "    }\n",
       "\n",
       "    .dataframe thead th {\n",
       "        text-align: right;\n",
       "    }\n",
       "</style>\n",
       "<table border=\"1\" class=\"dataframe\">\n",
       "  <thead>\n",
       "    <tr style=\"text-align: right;\">\n",
       "      <th></th>\n",
       "      <th>0</th>\n",
       "      <th>1</th>\n",
       "      <th>2</th>\n",
       "      <th>3</th>\n",
       "    </tr>\n",
       "  </thead>\n",
       "  <tbody>\n",
       "    <tr>\n",
       "      <th>count</th>\n",
       "      <td>2000.000000</td>\n",
       "      <td>2000.000000</td>\n",
       "      <td>2000.000000</td>\n",
       "      <td>2000.000000</td>\n",
       "    </tr>\n",
       "    <tr>\n",
       "      <th>mean</th>\n",
       "      <td>0.266972</td>\n",
       "      <td>0.143623</td>\n",
       "      <td>0.037041</td>\n",
       "      <td>0.041852</td>\n",
       "    </tr>\n",
       "    <tr>\n",
       "      <th>std</th>\n",
       "      <td>0.759539</td>\n",
       "      <td>1.041920</td>\n",
       "      <td>1.188686</td>\n",
       "      <td>1.080461</td>\n",
       "    </tr>\n",
       "    <tr>\n",
       "      <th>min</th>\n",
       "      <td>-1.245985</td>\n",
       "      <td>-1.959714</td>\n",
       "      <td>-2.431567</td>\n",
       "      <td>-2.643105</td>\n",
       "    </tr>\n",
       "    <tr>\n",
       "      <th>25%</th>\n",
       "      <td>-0.374269</td>\n",
       "      <td>-0.771763</td>\n",
       "      <td>-0.999347</td>\n",
       "      <td>-0.838263</td>\n",
       "    </tr>\n",
       "    <tr>\n",
       "      <th>50%</th>\n",
       "      <td>0.212630</td>\n",
       "      <td>0.129279</td>\n",
       "      <td>0.038019</td>\n",
       "      <td>0.134691</td>\n",
       "    </tr>\n",
       "    <tr>\n",
       "      <th>75%</th>\n",
       "      <td>0.880281</td>\n",
       "      <td>0.972092</td>\n",
       "      <td>0.990022</td>\n",
       "      <td>0.927241</td>\n",
       "    </tr>\n",
       "    <tr>\n",
       "      <th>max</th>\n",
       "      <td>1.984974</td>\n",
       "      <td>2.565782</td>\n",
       "      <td>3.197584</td>\n",
       "      <td>2.360401</td>\n",
       "    </tr>\n",
       "  </tbody>\n",
       "</table>\n",
       "</div>"
      ],
      "text/plain": [
       "                 0            1            2            3\n",
       "count  2000.000000  2000.000000  2000.000000  2000.000000\n",
       "mean      0.266972     0.143623     0.037041     0.041852\n",
       "std       0.759539     1.041920     1.188686     1.080461\n",
       "min      -1.245985    -1.959714    -2.431567    -2.643105\n",
       "25%      -0.374269    -0.771763    -0.999347    -0.838263\n",
       "50%       0.212630     0.129279     0.038019     0.134691\n",
       "75%       0.880281     0.972092     0.990022     0.927241\n",
       "max       1.984974     2.565782     3.197584     2.360401"
      ]
     },
     "metadata": {},
     "output_type": "display_data"
    }
   ],
   "source": [
    "display(df_actions.describe())"
   ]
  },
  {
   "cell_type": "code",
   "execution_count": 70,
   "metadata": {},
   "outputs": [
    {
     "data": {
      "image/png": "[encoded data removed]",
      "text/plain": [
       "<Figure size 1224x576 with 1 Axes>"
      ]
     },
     "metadata": {
      "needs_background": "light"
     },
     "output_type": "display_data"
    }
   ],
   "source": [
    "for column in df_actions.columns:\n",
    "    df_actions[column].hist(figsize=(17,8))"
   ]
  },
  {
   "cell_type": "code",
   "execution_count": 73,
   "metadata": {},
   "outputs": [
    {
     "data": {
      "image/png": "[encoded data removed]",
      "text/plain": [
       "<Figure size 1224x576 with 1 Axes>"
      ]
     },
     "metadata": {
      "needs_background": "light"
     },
     "output_type": "display_data"
    }
   ],
   "source": [
    "def f(x):\n",
    "    x = np.clip(x*100,a_min=-100, a_max=100)\n",
    "    return x\n",
    "\n",
    "\n",
    "df_actions_ = df_actions.apply(f, axis=1)\n",
    "for column in df_actions.columns:\n",
    "    df_actions_[column].hist(figsize=(17,8))"
   ]
  },
  {
   "cell_type": "markdown",
   "metadata": {},
   "source": [
    "## states"
   ]
  },
  {
   "cell_type": "code",
   "execution_count": 80,
   "metadata": {},
   "outputs": [
    {
     "data": {
      "image/png": "[encoded data removed]",
      "text/plain": [
       "<Figure size 1224x576 with 1 Axes>"
      ]
     },
     "metadata": {
      "needs_background": "light"
     },
     "output_type": "display_data"
    }
   ],
   "source": [
    "df_states = pd.DataFrame(np.array(batch.state))\n",
    "\n",
    "for column in df_states.columns:\n",
    "    df_states[column].hist(figsize=(17,8))"
   ]
  },
  {
   "cell_type": "markdown",
   "metadata": {},
   "source": [
    "## rewards"
   ]
  },
  {
   "cell_type": "code",
   "execution_count": 79,
   "metadata": {},
   "outputs": [
    {
     "data": {
      "image/png": "[encoded data removed]",
      "text/plain": [
       "<Figure size 1224x576 with 1 Axes>"
      ]
     },
     "metadata": {
      "needs_background": "light"
     },
     "output_type": "display_data"
    }
   ],
   "source": [
    "df_rewards = pd.DataFrame(np.array(batch.reward))\n",
    "\n",
    "for column in df_rewards.columns:\n",
    "    df_rewards[column].hist(figsize=(17,8))"
   ]
  },
  {
   "cell_type": "code",
   "execution_count": 108,
   "metadata": {},
   "outputs": [],
   "source": [
    "df_rewards_norm = df_rewards.copy()"
   ]
  },
  {
   "cell_type": "code",
   "execution_count": 109,
   "metadata": {},
   "outputs": [
    {
     "data": {
      "image/png": "[encoded data removed]",
      "text/plain": [
       "<Figure size 1224x576 with 1 Axes>"
      ]
     },
     "metadata": {
      "needs_background": "light"
     },
     "output_type": "display_data"
    }
   ],
   "source": [
    "reward_mean=True\n",
    "std=True\n",
    "clip=2\n",
    "\n",
    "if reward_mean:\n",
    "    df_rewards_norm = df_rewards_norm.apply(lambda x : x - x.mean())    \n",
    "if std:\n",
    "    df_rewards_norm = df_rewards_norm.apply(lambda x : x/(x.std() +1e-8))    \n",
    "if clip:\n",
    "    df_rewards_norm = df_rewards_norm.clip(lower=-clip, upper = + clip)\n",
    "\n",
    "\n",
    "\n",
    "for column in df_rewards.columns:\n",
    "    df_rewards_norm[column].hist(figsize=(17,8))"
   ]
  },
  {
   "cell_type": "markdown",
   "metadata": {},
   "source": [
    "# Close"
   ]
  },
  {
   "cell_type": "code",
   "execution_count": null,
   "metadata": {},
   "outputs": [],
   "source": [
    "env.shutdown()"
   ]
  }
 ],
 "metadata": {
  "kernelspec": {
   "display_name": "Python 3",
   "language": "python",
   "name": "python3"
  },
  "language_info": {
   "codemirror_mode": {
    "name": "ipython",
    "version": 3
   },
   "file_extension": ".py",
   "mimetype": "text/x-python",
   "name": "python",
   "nbconvert_exporter": "python",
   "pygments_lexer": "ipython3",
   "version": "3.7.5"
  },
  "toc": {
   "base_numbering": 1,
   "nav_menu": {},
   "number_sections": true,
   "sideBar": true,
   "skip_h1_title": false,
   "title_cell": "Table of Contents",
   "title_sidebar": "Contents",
   "toc_cell": false,
   "toc_position": {},
   "toc_section_display": true,
   "toc_window_display": false
  }
 },
 "nbformat": 4,
 "nbformat_minor": 4
}
